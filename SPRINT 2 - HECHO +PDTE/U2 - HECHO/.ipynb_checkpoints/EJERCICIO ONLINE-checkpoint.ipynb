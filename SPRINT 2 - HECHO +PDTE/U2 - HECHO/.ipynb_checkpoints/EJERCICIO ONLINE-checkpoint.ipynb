{
 "cells": [
  {
   "cell_type": "code",
   "execution_count": 61,
   "id": "06802edf-4cc9-4311-92a7-0392098b0156",
   "metadata": {},
   "outputs": [
    {
     "name": "stdin",
     "output_type": "stream",
     "text": [
      " 1\n"
     ]
    },
    {
     "name": "stdout",
     "output_type": "stream",
     "text": [
      "Pueba otra vez, intentos restantes: 2\n"
     ]
    },
    {
     "name": "stdin",
     "output_type": "stream",
     "text": [
      " python\n"
     ]
    },
    {
     "name": "stdout",
     "output_type": "stream",
     "text": [
      "La contraseña correcta es: python\n"
     ]
    }
   ],
   "source": [
    "password = input()\n",
    "solution =\"python\"\n",
    "\n",
    "if password == solution:\n",
    "    print(\"La contraseña correcta es:\", solution)\n",
    "\n",
    "else:\n",
    "    i= 1\n",
    "    print(\"Pueba otra vez, intentos restantes:\", 3-i)\n",
    "\n",
    "    while password != solution:\n",
    "        password = input ()\n",
    "        i = i+1\n",
    "        if i >= 3 and password != solution:\n",
    "            print(\"Cuenta bloqueada\")\n",
    "            solution = None\n",
    "            break\n",
    "        elif password == solution:\n",
    "           print(\"La contraseña correcta es:\", solution)\n",
    "        else:\n",
    "            print(\"Pueba otra vez, intentos restantes:\", 3-i)"
   ]
  },
  {
   "cell_type": "code",
   "execution_count": 125,
   "id": "f767a554-ced2-4f2c-8834-42252c57aca1",
   "metadata": {},
   "outputs": [],
   "source": [
    "#EJERCICIO 5\n",
    "\n",
    "\n",
    "def saludar():\n",
    "    nombre= input(\"Dime tu nombre:\")\n",
    "    print(\"Hola \",nombre)\n",
    "\n",
    "def pide_numero():\n",
    "    try:\n",
    "        n1 =int( input(\"Introduce numero:\"))\n",
    "        return n1\n",
    "    except ValueError:\n",
    "        print(\"Eso no es un numero, pruebe otra vez\")\n",
    "        n1 =int( input(\"Introduce numero:\"))\n",
    "        return n1\n",
    "\n",
    "def pide_simbolo():\n",
    "    n1 =( input(\"Introduce simbolo:\"))\n",
    "    return n1\n",
    "    \n",
    "def sumar(n1,n2):\n",
    "    resultado = n1 + n2\n",
    "    return resultado\n",
    "    \n",
    "def restar(n1,n2):\n",
    "    resultado = n1 - n2\n",
    "    return resultado\n",
    "\n",
    "def multiplicar(n1,n2):\n",
    "    resultado = n1*n2\n",
    "    return resultado\n",
    "\n",
    "def solucion():\n",
    "    saludar()\n",
    "    n1 = pide_numero()\n",
    "    n2 =pide_numero()\n",
    "    simbolo =pide_simbolo()\n",
    "    try:\n",
    "        if simbolo == \"+\":\n",
    "           resultado = sumar(n1,n2)\n",
    "        elif simbolo == \"-\":\n",
    "            resultado = restar(n1,n2)\n",
    "        elif simbolo == \"*\" :\n",
    "           resultado = multiplicar(n1,n2)\n",
    "            \n",
    "        print(\"Tu resultado es:\", resultado) \n",
    "\n",
    "    except:\n",
    "        print(\"Simbolo incorrecto, pruebe otra vez\")\n",
    "\n",
    "\n",
    "\n"
   ]
  },
  {
   "cell_type": "code",
   "execution_count": 124,
   "id": "1b9de782-b245-4649-a804-3d9c8e4662cc",
   "metadata": {},
   "outputs": [
    {
     "name": "stdin",
     "output_type": "stream",
     "text": [
      "Dime tu nombre: gema\n"
     ]
    },
    {
     "name": "stdout",
     "output_type": "stream",
     "text": [
      "Hola  gema\n"
     ]
    },
    {
     "name": "stdin",
     "output_type": "stream",
     "text": [
      "Introduce numero: 1\n",
      "Introduce numero: a\n"
     ]
    },
    {
     "name": "stdout",
     "output_type": "stream",
     "text": [
      "Eso no es un numero, pruebe otra vez\n"
     ]
    },
    {
     "name": "stdin",
     "output_type": "stream",
     "text": [
      "Introduce numero: 3\n",
      "Introduce simbolo: -\n"
     ]
    },
    {
     "name": "stdout",
     "output_type": "stream",
     "text": [
      "Tu resultado es: -2\n"
     ]
    }
   ],
   "source": [
    "solucion()"
   ]
  },
  {
   "cell_type": "code",
   "execution_count": 94,
   "id": "7e16c904-a116-464b-a9ff-ad75047b126f",
   "metadata": {},
   "outputs": [
    {
     "data": {
      "text/plain": [
       "-1"
      ]
     },
     "execution_count": 94,
     "metadata": {},
     "output_type": "execute_result"
    }
   ],
   "source": [
    "restar(1,2)\n"
   ]
  },
  {
   "cell_type": "code",
   "execution_count": 71,
   "id": "e6d8f9c3-9a8c-49d6-a0de-d0395e7558de",
   "metadata": {},
   "outputs": [
    {
     "ename": "TypeError",
     "evalue": "pedir_numeros() missing 2 required positional arguments: 'n1' and 'n2'",
     "output_type": "error",
     "traceback": [
      "\u001b[1;31m---------------------------------------------------------------------------\u001b[0m",
      "\u001b[1;31mTypeError\u001b[0m                                 Traceback (most recent call last)",
      "Cell \u001b[1;32mIn[71], line 1\u001b[0m\n\u001b[1;32m----> 1\u001b[0m \u001b[43mpedir_numeros\u001b[49m\u001b[43m(\u001b[49m\u001b[43m)\u001b[49m\n",
      "\u001b[1;31mTypeError\u001b[0m: pedir_numeros() missing 2 required positional arguments: 'n1' and 'n2'"
     ]
    }
   ],
   "source": [
    "pedir_numeros()"
   ]
  }
 ],
 "metadata": {
  "kernelspec": {
   "display_name": "Python 3 (ipykernel)",
   "language": "python",
   "name": "python3"
  },
  "language_info": {
   "codemirror_mode": {
    "name": "ipython",
    "version": 3
   },
   "file_extension": ".py",
   "mimetype": "text/x-python",
   "name": "python",
   "nbconvert_exporter": "python",
   "pygments_lexer": "ipython3",
   "version": "3.12.3"
  }
 },
 "nbformat": 4,
 "nbformat_minor": 5
}
