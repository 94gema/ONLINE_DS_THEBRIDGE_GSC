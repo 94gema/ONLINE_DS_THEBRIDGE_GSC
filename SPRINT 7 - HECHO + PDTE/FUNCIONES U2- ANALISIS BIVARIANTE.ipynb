{
 "cells": [
  {
   "cell_type": "markdown",
   "metadata": {},
   "source": [
    "PAG WEB BIEN GUAPA VISUALIZACION\n",
    "\n",
    "https://www.data-to-viz.com/"
   ]
  },
  {
   "cell_type": "code",
   "execution_count": null,
   "metadata": {},
   "outputs": [],
   "source": [
    "import numpy as np\n",
    "import matplotlib.pyplot as plt\n",
    "import pandas as pd\n",
    "import seaborn as sns\n",
    "\n",
    "from bootcampviztools import plot_categorical_relationship_fin, pinta_distribucion_categoricas # Este módulo lo tienes en el directorio de los notebooks, puede abrirlo y jugar con las funciones que contiene\n"
   ]
  },
  {
   "cell_type": "markdown",
   "metadata": {},
   "source": [
    "#### DISTRIBUCION CATEGORICA DOS GRAFICOS: CATEGORICA - CATEGORICA "
   ]
  },
  {
   "cell_type": "code",
   "execution_count": null,
   "metadata": {},
   "outputs": [],
   "source": [
    "pinta_distribucion_categoricas(df_seguros,[\"response\",\"state\"], relativa= True, mostrar_valores= True)"
   ]
  },
  {
   "cell_type": "markdown",
   "metadata": {},
   "source": [
    "#### DISTRIBUCION CATEGORICA 1 GRAFICO 2 VARIABLES CATEGORICAS"
   ]
  },
  {
   "cell_type": "code",
   "execution_count": null,
   "metadata": {},
   "outputs": [],
   "source": [
    "# fRECUENCIA ABSOLUTA\n",
    "plot_categorical_relationship_fin(df_seguros, \"state\",\"response\", show_values= True)  "
   ]
  },
  {
   "cell_type": "code",
   "execution_count": null,
   "metadata": {},
   "outputs": [],
   "source": [
    "#FRECUENCIA RELATIVA\n",
    "plot_categorical_relationship_fin(df_seguros, \"state\",\"response\", relative_freq = True, show_values = True)"
   ]
  },
  {
   "cell_type": "code",
   "execution_count": null,
   "metadata": {},
   "outputs": [],
   "source": [
    "# En números, por si no te crees el gráfico\n",
    "df_seguros.groupby(\"state\", as_index = False)[\"response\"].value_counts(normalize = True)"
   ]
  },
  {
   "cell_type": "markdown",
   "metadata": {},
   "source": [
    "#### COMPROBACION DE HIPOTESIS CATEGORICA CATEGORICA"
   ]
  },
  {
   "cell_type": "code",
   "execution_count": null,
   "metadata": {},
   "outputs": [],
   "source": [
    "#CHI CUADRADO\n",
    "#Comprueba hipotesis de que variables independientes, es decir, correlacion nula\n",
    "# tabla de contigencia\n",
    "tabla_contingencia = pd.crosstab(df_seguros['response'], df_seguros['state'])\n",
    "\n",
    "tabla_contingencia\n",
    "\n",
    "#aplicar la prueba\n",
    "from scipy.stats import chi2_contingency\n",
    "\n",
    "chi2, p, dof, expected = chi2_contingency(tabla_contingencia)\n",
    "\n",
    "\n",
    "print(\"Valor Chi-Cuadrado:\", chi2)\n",
    "print(\"P-Value:\", p)\n",
    "print(\"Grados de Libertad:\", dof)\n",
    "print(\"Tabla de Frecuencias Esperadas:\\n\", expected)"
   ]
  },
  {
   "cell_type": "markdown",
   "metadata": {},
   "source": [
    "#### DISTRIBUCION NUMERICA - CATEGORICA"
   ]
  },
  {
   "cell_type": "code",
   "execution_count": null,
   "metadata": {},
   "outputs": [],
   "source": [
    "#ANALISIS UNIVARIANTE PARA CADA VARIABLE\n",
    "#NUMERICA\n",
    "plot_combined_graphs(df_seguros,[\"customer_lifetime_value\"])\n",
    "#CATEGORICA\n",
    "pinta_distribucion_categoricas(df_seguros,[\"response\"], relativa= True, mostrar_valores= True)"
   ]
  },
  {
   "cell_type": "code",
   "execution_count": null,
   "metadata": {},
   "outputs": [],
   "source": [
    "#EN ESTE CASO USAMOS LA MEDIANA PARA COMPARAR EL DIAGRAMA DE FRECUENCIAS\n",
    "plot_categorical_numerical_relationship(df_seguros,\"response\",\"customer_lifetime_value\", measure = \"median\")"
   ]
  },
  {
   "cell_type": "code",
   "execution_count": null,
   "metadata": {},
   "outputs": [],
   "source": [
    "#DIAGARAMAS DE CAJA - MANDA LA VAR CATEGORICA\n",
    "plot_grouped_boxplots(df_seguros,\"response\",\"customer_lifetime_value\")"
   ]
  },
  {
   "cell_type": "code",
   "execution_count": null,
   "metadata": {},
   "outputs": [],
   "source": [
    "#HISTOGRAMA\n",
    "plot_grouped_histograms(df_seguros,\"response\", \"customer_lifetime_value\",2)"
   ]
  },
  {
   "cell_type": "markdown",
   "metadata": {},
   "source": [
    "#### COMPROBACION DE HIPOTESIS CATEGORICA NUMERICA\n"
   ]
  },
  {
   "cell_type": "code",
   "execution_count": null,
   "metadata": {},
   "outputs": [],
   "source": [
    "# PRUEBA U DE MANN WHITNEY\n",
    "#Comprueba que la hipotesis directora dice que no hay diferencia significativa entre los dos valores comparados\n",
    "#Es decir, son independientes las variables.\n",
    "from scipy.stats import mannwhitneyu # Sí, de scipy.stats :-)\n",
    "\n",
    "#Separar valores\n",
    "grupo_a = df_seguros.loc[df_seguros.response == \"Yes\"][\"customer_lifetime_value\"]\n",
    "grupo_b = df_seguros.loc[df_seguros.response == \"No\"][\"customer_lifetime_value\"]\n",
    "\n",
    "\n",
    "#aplicar \n",
    "u_stat, p_valor = mannwhitneyu(grupo_a, grupo_b)\n",
    "print(\"Estadístico U:\", u_stat)\n",
    "print(\"Valor p:\", p_valor)\n",
    "\n"
   ]
  },
  {
   "cell_type": "code",
   "execution_count": 1,
   "metadata": {},
   "outputs": [
    {
     "ename": "NameError",
     "evalue": "name 'df_air_jun' is not defined",
     "output_type": "error",
     "traceback": [
      "\u001b[1;31m---------------------------------------------------------------------------\u001b[0m",
      "\u001b[1;31mNameError\u001b[0m                                 Traceback (most recent call last)",
      "Cell \u001b[1;32mIn[1], line 5\u001b[0m\n\u001b[0;32m      2\u001b[0m \u001b[38;5;28;01mfrom\u001b[39;00m \u001b[38;5;21;01mscipy\u001b[39;00m \u001b[38;5;28;01mimport\u001b[39;00m stats\n\u001b[0;32m      4\u001b[0m \u001b[38;5;66;03m#Separar en grupos según los valores de las categorías\u001b[39;00m\n\u001b[1;32m----> 5\u001b[0m grupos \u001b[38;5;241m=\u001b[39m \u001b[43mdf_air_jun\u001b[49m[\u001b[38;5;124m'\u001b[39m\u001b[38;5;124maircompany\u001b[39m\u001b[38;5;124m'\u001b[39m]\u001b[38;5;241m.\u001b[39munique()  \u001b[38;5;66;03m# Obtener los valores únicos de la columna categórica, en este caso la compañía área\u001b[39;00m\n\u001b[0;32m      6\u001b[0m ingresos_por_company \u001b[38;5;241m=\u001b[39m [df_air_jun[df_air_jun[\u001b[38;5;124m'\u001b[39m\u001b[38;5;124maircompany\u001b[39m\u001b[38;5;124m'\u001b[39m] \u001b[38;5;241m==\u001b[39m grupo][\u001b[38;5;124m'\u001b[39m\u001b[38;5;124mingresos\u001b[39m\u001b[38;5;124m'\u001b[39m] \u001b[38;5;28;01mfor\u001b[39;00m grupo \u001b[38;5;129;01min\u001b[39;00m grupos] \u001b[38;5;66;03m# obtenemos los ingresos por compañía y los incluimos en una lista\u001b[39;00m\n\u001b[0;32m      7\u001b[0m ingresos_por_company\n",
      "\u001b[1;31mNameError\u001b[0m: name 'df_air_jun' is not defined"
     ]
    }
   ],
   "source": [
    "#PRUEBA ANOVA\n",
    "from scipy import stats\n",
    "#HIpotesis directora es que no tienen relacion estadistica.\n",
    "#Separar en grupos según los valores de las categorías\n",
    "grupos = df_air_jun['aircompany'].unique()  # Obtener los valores únicos de la columna categórica, en este caso la compañía área\n",
    "ingresos_por_company = [df_air_jun[df_air_jun['aircompany'] == grupo]['ingresos'] for grupo in grupos] # obtenemos los ingresos por compañía y los incluimos en una lista\n",
    "ingresos_por_company\n",
    "\n",
    "#Aplicamos\n",
    "\n",
    "f_val, p_val = stats.f_oneway(*ingresos_por_company) # El método * (igual que cuando vimos *args hace mil años) \n",
    "                                                    # lo que hace es separar todos los elementos de la lista y pasarselos como argumento a la función\n",
    "print(\"Valor F:\", f_val)\n",
    "print(\"Valor p:\", p_val)\n",
    "\n",
    "\n"
   ]
  },
  {
   "cell_type": "markdown",
   "metadata": {},
   "source": [
    "#### DISTRIBUCION NUMERICA - NUMERICA"
   ]
  },
  {
   "cell_type": "code",
   "execution_count": null,
   "metadata": {},
   "outputs": [],
   "source": [
    "# DIAGRAMAS DE CAJAS E HISTOGRAMA UNIVARIANTE\n",
    "plot_combined_graphs(df_seguros,[\"customer_lifetime_value\"])"
   ]
  },
  {
   "cell_type": "code",
   "execution_count": null,
   "metadata": {},
   "outputs": [],
   "source": [
    "#DIAGRAMA DISPERSION SCATTERED PLOT\n",
    "grafico_dispersion_con_correlacion(df_seguros,\"income\",\"customer_lifetime_value\", 20, mostrar_correlacion = True)"
   ]
  },
  {
   "cell_type": "code",
   "execution_count": null,
   "metadata": {},
   "outputs": [],
   "source": [
    "#CORRELACION DE PEARSON\n",
    "df_seguros[[\"income\",\"customer_lifetime_value\"]].corr()"
   ]
  },
  {
   "cell_type": "code",
   "execution_count": null,
   "metadata": {},
   "outputs": [],
   "source": [
    "#CORRELACION DE PEARSON\n",
    "from scipy.stats import pearsonr\n",
    "\n",
    "pearsonr(df_seguros[\"income\"], df_seguros[\"customer_lifetime_value\"], alternative =\"less\")\n",
    "#El valor que nos interesa es statistic, pvalue<0.05 hipotesis cierta\n"
   ]
  },
  {
   "cell_type": "markdown",
   "metadata": {},
   "source": []
  },
  {
   "cell_type": "code",
   "execution_count": null,
   "metadata": {},
   "outputs": [],
   "source": []
  },
  {
   "cell_type": "code",
   "execution_count": null,
   "metadata": {},
   "outputs": [],
   "source": []
  },
  {
   "cell_type": "code",
   "execution_count": null,
   "metadata": {},
   "outputs": [],
   "source": []
  }
 ],
 "metadata": {
  "kernelspec": {
   "display_name": "Python 3",
   "language": "python",
   "name": "python3"
  },
  "language_info": {
   "codemirror_mode": {
    "name": "ipython",
    "version": 3
   },
   "file_extension": ".py",
   "mimetype": "text/x-python",
   "name": "python",
   "nbconvert_exporter": "python",
   "pygments_lexer": "ipython3",
   "version": "3.12.4"
  }
 },
 "nbformat": 4,
 "nbformat_minor": 2
}
