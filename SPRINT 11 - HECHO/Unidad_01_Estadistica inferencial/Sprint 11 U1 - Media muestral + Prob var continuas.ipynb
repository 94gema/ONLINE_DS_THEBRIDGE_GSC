{
 "cells": [
  {
   "cell_type": "code",
   "execution_count": null,
   "metadata": {},
   "outputs": [],
   "source": [
    "#importar paquetes\n",
    "import numpy as np\n",
    "import pandas as pd\n",
    "import scipy.stats as stats\n",
    "\n",
    "from math import sqrt\n",
    "from statsmodels.stats.proportion import proportions_ztest"
   ]
  },
  {
   "cell_type": "code",
   "execution_count": null,
   "metadata": {},
   "outputs": [],
   "source": [
    "#Sacamos la muestra de la población"
   ]
  },
  {
   "cell_type": "code",
   "execution_count": null,
   "metadata": {},
   "outputs": [],
   "source": [
    "num_muestras_titanic = int(len(df_titanic) * 0.4)\n",
    "muestra_titanic = df_titanic.sample(num_muestras_titanic, random_state = 42)\n",
    "print(f\"Poblacion titanic: {len(df_titanic)} pasajeros\")\n",
    "print(f\"Muestra titanic: {len(muestra_titanic)} pasajeros\")\n",
    "\n",
    "num_muestras_paises = int(len(df_life_satisfaction) * 0.4)\n",
    "muestra_paises = df_life_satisfaction.sample(num_muestras_paises, random_state = 42)\n",
    "print(f\"Poblacion Indice Satifaccion: {len(df_life_satisfaction)} países\")\n",
    "print(f\"Muestra titanic: {len(muestra_paises)} países\")"
   ]
  },
  {
   "cell_type": "markdown",
   "metadata": {},
   "source": [
    "*Recordamos que SE, erra el error estándar y cómo se calculaba:*\n",
    "$$ SE = \\frac{s}{\\sqrt{n}}$$\n",
    "$$s = \\sqrt{\\frac{\\sum\\limits_{i=1}^n(x_i - \\bar x)^2}{n-1}} $$"
   ]
  },
  {
   "cell_type": "code",
   "execution_count": null,
   "metadata": {},
   "outputs": [],
   "source": [
    "#Intervalo de confianza\n",
    "s = df_ls[\"Life satisfaction\"].std() # Obtenemos la desviación estándar de la variable considerada (\"Life satisfaction\")\n",
    "SE = s/sqrt(len(df_ls)) # Aplicamos la fórmula del errór típico o error estándar\n",
    "media_ls = round(df_ls[\"Life satisfaction\"].mean(),2) # Obtenemos la media muestral\n",
    "IC = round(1.96 * SE,2) # Aplicamos la fórmula del intervalo de confianza (PARA UNA CONFIANZA ESTADISTICA DEL 95%)\n",
    "print(\"IC = \", IC) # Imprimmos el intervalo\n",
    "print(f\"Intervalo de la media poblacional: [{media_ls -IC},{media_ls +IC}]\")"
   ]
  },
  {
   "cell_type": "code",
   "execution_count": 1,
   "metadata": {},
   "outputs": [
    {
     "ename": "NameError",
     "evalue": "name 'muestra_titanic' is not defined",
     "output_type": "error",
     "traceback": [
      "\u001b[1;31m---------------------------------------------------------------------------\u001b[0m",
      "\u001b[1;31mNameError\u001b[0m                                 Traceback (most recent call last)",
      "Cell \u001b[1;32mIn[1], line 3\u001b[0m\n\u001b[0;32m      1\u001b[0m \u001b[38;5;28;01mimport\u001b[39;00m \u001b[38;5;21;01mscipy\u001b[39;00m\u001b[38;5;21;01m.\u001b[39;00m\u001b[38;5;21;01mstats\u001b[39;00m \u001b[38;5;28;01mas\u001b[39;00m \u001b[38;5;21;01mstats\u001b[39;00m\n\u001b[0;32m      2\u001b[0m \u001b[38;5;66;03m#Damos el valor a de la hipotesis con el valor de la media\u001b[39;00m\n\u001b[1;32m----> 3\u001b[0m a \u001b[38;5;241m=\u001b[39m \u001b[43mmuestra_titanic\u001b[49m\u001b[38;5;241m.\u001b[39mage\u001b[38;5;241m.\u001b[39mmean()\n\u001b[0;32m      4\u001b[0m \u001b[38;5;66;03m#Hacemos el T-test\u001b[39;00m\n\u001b[0;32m      5\u001b[0m stats\u001b[38;5;241m.\u001b[39mttest_1samp(muestra_titanic\u001b[38;5;241m.\u001b[39mage\u001b[38;5;241m.\u001b[39mvalues,popmean\u001b[38;5;241m=\u001b[39m a)\n",
      "\u001b[1;31mNameError\u001b[0m: name 'muestra_titanic' is not defined"
     ]
    }
   ],
   "source": [
    "import scipy.stats as stats\n",
    "#Damos el valor a de la hipotesis con el valor de la media\n",
    "a = muestra_titanic.age.mean()\n",
    "#Hacemos el T-test\n",
    "stats.ttest_1samp(muestra_titanic.age.values,popmean= a)\n",
    "#Si pvalue = 1 quiere decir que no podemos rechazar la hipotesis, pero eso no quiere decir que la hipotesis sea verdadera"
   ]
  },
  {
   "cell_type": "code",
   "execution_count": null,
   "metadata": {},
   "outputs": [],
   "source": [
    "import scipy.stats as stats\n",
    "data = muestra_paises[\"Life satisfaction\"]\n",
    "\n",
    "#Hipotesis alternativa media > 6.6 \n",
    "stats.ttest_1samp(a=data,popmean=6.6,alternative='greater')"
   ]
  },
  {
   "cell_type": "code",
   "execution_count": null,
   "metadata": {},
   "outputs": [],
   "source": [
    "import scipy.stats as stats\n",
    "data = muestra_paises[\"Life satisfaction\"]\n",
    "#Hipotesis alternativa media < 6.6\n",
    "stats.ttest_1samp(a=data,popmean=6.6,alternative='less')"
   ]
  },
  {
   "cell_type": "code",
   "execution_count": null,
   "metadata": {},
   "outputs": [],
   "source": [
    "#Hipotesis alternativa Media <> 310\n",
    "p_value = round(stats.ttest_1samp(a=Pesos,popmean= 310).pvalue,2)"
   ]
  },
  {
   "cell_type": "code",
   "execution_count": null,
   "metadata": {},
   "outputs": [],
   "source": [
    "# Vamos a ir probando ICs desde 0 años,cada vez más grandes hasta llegar a dar un p-value menor \n",
    "# que 0.05 el anterior lo consideraremos nuestro IC máximo de garantía\n",
    "# para el caso de p-value = 0.05\n",
    "p_value_target = 0.05\n",
    "\n",
    "previous_IC = 0\n",
    "for IC in np.arange(0,1.5,0.05): # partimos de IC de 0 años (a = media muestral) y vamos subiendo hasta 1.5, \n",
    "                                      # hasta encontrar el IC máximo (que debería ser 1.35), que nos garantice al 95% que la media puede ser ese valor\n",
    "    a = muestra_titanic.age.mean() + IC # La curva es simétrica nos vale con testar un lado solo\n",
    "    p_value  = stats.ttest_1samp(a=muestra_titanic.age.values,popmean= a).pvalue\n",
    "    print(f\"Para un IC: {IC}, comprobamos a = {a} y nos da un p-value = {p_value}\")\n",
    "    if p_value <= p_value_target:\n",
    "        print(f\"para IC =  {IC} se rechaza la hipótesis nula de igualda, es decir a = {a}\",\\\n",
    "               f\"ya no es una posible media poblacional al {(1-p_value_target)*100}% de signifcacion\")\n",
    "        print(f\"Nuestro IC escogido es entonces, IC = {previous_IC}\")\n",
    "        break\n",
    "    previous_IC = IC"
   ]
  },
  {
   "cell_type": "code",
   "execution_count": null,
   "metadata": {},
   "outputs": [],
   "source": [
    "#Para comparar dos muestras \n",
    "stats.ttest_ind(a=A, b=B, alternative='two-sided')"
   ]
  },
  {
   "cell_type": "code",
   "execution_count": null,
   "metadata": {},
   "outputs": [],
   "source": [
    "#z test"
   ]
  },
  {
   "cell_type": "code",
   "execution_count": 1,
   "metadata": {},
   "outputs": [
    {
     "ename": "NameError",
     "evalue": "name 'np' is not defined",
     "output_type": "error",
     "traceback": [
      "\u001b[1;31m---------------------------------------------------------------------------\u001b[0m",
      "\u001b[1;31mNameError\u001b[0m                                 Traceback (most recent call last)",
      "Cell \u001b[1;32mIn[1], line 5\u001b[0m\n\u001b[0;32m      2\u001b[0m p_value_target \u001b[38;5;241m=\u001b[39m \u001b[38;5;241m0.05\u001b[39m\n\u001b[0;32m      4\u001b[0m previous_IC \u001b[38;5;241m=\u001b[39m \u001b[38;5;241m0\u001b[39m\n\u001b[1;32m----> 5\u001b[0m \u001b[38;5;28;01mfor\u001b[39;00m IC \u001b[38;5;129;01min\u001b[39;00m \u001b[43mnp\u001b[49m\u001b[38;5;241m.\u001b[39marange(\u001b[38;5;241m0\u001b[39m,\u001b[38;5;241m0.5\u001b[39m,\u001b[38;5;241m0.01\u001b[39m): \u001b[38;5;66;03m# partimos de IC de 0 hasta 0.5 (que dada la media muestral sería como suponer un ratio de supervivencia del 0.38 + 0.5 = 0.88), \u001b[39;00m\n\u001b[0;32m      6\u001b[0m                                       \u001b[38;5;66;03m# hasta encontrar el IC máximo que nos garantice al 95% (el p_value_target) que el ratio poblacional puede tener ese valor\u001b[39;00m\n\u001b[0;32m      7\u001b[0m     p_hat \u001b[38;5;241m=\u001b[39m ratio  \u001b[38;5;66;03m# la proporción muestral (Calculada antes)\u001b[39;00m\n\u001b[0;32m      8\u001b[0m     Pi \u001b[38;5;241m=\u001b[39m ratio \u001b[38;5;241m+\u001b[39m IC \u001b[38;5;66;03m# el valor de comprobación en Z-Test\u001b[39;00m\n",
      "\u001b[1;31mNameError\u001b[0m: name 'np' is not defined"
     ]
    }
   ],
   "source": [
    "#Ztest para intervalos\n",
    "p_value_target = 0.05\n",
    "\n",
    "previous_IC = 0\n",
    "for IC in np.arange(0,0.5,0.01): # partimos de IC de 0 hasta 0.5 (que dada la media muestral sería como suponer un ratio de supervivencia del 0.38 + 0.5 = 0.88), \n",
    "                                      # hasta encontrar el IC máximo que nos garantice al 95% (el p_value_target) que el ratio poblacional puede tener ese valor\n",
    "    p_hat = ratio  # la proporción muestral (Calculada antes)\n",
    "    Pi = ratio + IC # el valor de comprobación en Z-Test\n",
    "    pasajeros = len(df_t)\n",
    "    z_stat, p_value = proportions_ztest(p_hat * pasajeros, pasajeros, Pi)\n",
    "    print(f\"Para un IC: {IC}, comprobamos pi = {Pi} y nos da un p-value = {p_value}\")\n",
    "    if p_value <= p_value_target:\n",
    "        print(f\"para IC =  {IC} se rechaza la hipótesis nula de igualdad, es decir pi = {Pi}\",\\\n",
    "               f\"ya no es una posible media poblacional al {(1-p_value_target)*100}% de signifcacion\")\n",
    "        print(f\"Nuestro limite superior al ratios escogido es entonces, IC = {previous_IC + p_hat} \")\n",
    "        break\n",
    "    previous_IC = IC"
   ]
  },
  {
   "cell_type": "code",
   "execution_count": null,
   "metadata": {},
   "outputs": [],
   "source": [
    "from statsmodels.stats.proportion import proportions_ztest\n",
    "\n",
    "p_hat = tasa_supervivencia_muestral/100 # Proporcion o frecuecia de la variable en la muestra\n",
    "n = len(muestra_titanic)       # Tamaño de la muestra\n",
    "Pi = 0.37     # Proporción o frecuencia que queremos probar en la población\n",
    "# Calcular el estadístico Z y el p-valor\n",
    "z_stat, p_value = proportions_ztest(p_hat * n, n, Pi)\n",
    "\n",
    "# Mostrar resultados\n",
    "print(f\"Estadístico Z: {z_stat}\")\n",
    "print(f\"P-valor: {p_value}\")"
   ]
  },
  {
   "cell_type": "code",
   "execution_count": null,
   "metadata": {},
   "outputs": [],
   "source": [
    "#z test para umbrles con la media"
   ]
  },
  {
   "cell_type": "code",
   "execution_count": null,
   "metadata": {},
   "outputs": [],
   "source": [
    "p_hat = tasa_supervivencia_muestral/100 # Proporcion o frecuecia de la variable en la muestra\n",
    "n = len(muestra_titanic)       # Tamaño de la muestra\n",
    "Pi = 0.40     # Proporción o frecuencia que queremos probar en la población\n",
    "# Calcular el estadístico Z y el p-valor\n",
    "z_stat, p_value = proportions_ztest(p_hat * n, n, Pi, alternative = \"smaller\")\n",
    "\n",
    "# Mostrar resultados\n",
    "print(f\"Estadístico Z: {z_stat}\")\n",
    "print(f\"P-valor: {p_value}\")"
   ]
  },
  {
   "cell_type": "code",
   "execution_count": null,
   "metadata": {},
   "outputs": [],
   "source": [
    "p_hat = tasa_supervivencia_muestral/100 # Proporcion o frecuecia de la variable en la muestra\n",
    "n = len(muestra_titanic)       # Tamaño de la muestra\n",
    "Pi = 0.30     # Proporción o frecuencia que queremos probar en la población\n",
    "# Calcular el estadístico Z y el p-valor\n",
    "z_stat, p_value = proportions_ztest(p_hat * n, n, Pi, alternative = \"larger\") # Fijate que los valores alternative son diferentes a los usados t-test\n",
    "\n",
    "# Mostrar resultados\n",
    "print(f\"Estadístico Z: {z_stat}\")\n",
    "print(f\"P-valor: {p_value}\")"
   ]
  },
  {
   "cell_type": "code",
   "execution_count": null,
   "metadata": {},
   "outputs": [],
   "source": [
    "#ztest para 2 muestras"
   ]
  },
  {
   "cell_type": "code",
   "execution_count": null,
   "metadata": {},
   "outputs": [],
   "source": [
    "\n",
    "exitos = np.array([130,56])\n",
    "muestras = np.array([200,100])\n",
    "\n",
    "\n",
    "(z,pvalor) = proportions_ztest(count=exitos, nobs=muestras, alternative='larger')\n",
    "\n",
    "print(z)\n",
    "print(pvalor)"
   ]
  },
  {
   "cell_type": "code",
   "execution_count": null,
   "metadata": {},
   "outputs": [],
   "source": [
    "#DENSIDAD DE PROBABILIDAD\n",
    "#Para ver el gráfico\n",
    "sns.histplot(x = \"Life satisfaction\", data = df_lifesat, kde = True)"
   ]
  },
  {
   "cell_type": "code",
   "execution_count": null,
   "metadata": {},
   "outputs": [],
   "source": [
    "#1 Obtenemos la estimación de la función densidad de probabilidad de la variable numérica\n",
    "\n",
    "from scipy.stats import gaussian_kde # Usamos este estimador, ojo no estima Kde gaussianos usa un metodo basado en gaussianas, que no es lo mismo\n",
    "\n",
    "f_densidad = gaussian_kde(df_lifesat[\"Life satisfaction\"])\n",
    "\n",
    "\n",
    "#2 Definimos los rangos de intregación\n",
    "rango_min = -np.infty\n",
    "rango_max = 5.5\n",
    "\n",
    "#3 Integramos\n",
    "from scipy.integrate import quad # Utiliza un método de integración numérico sobre el que no vamos a profundizar :-/\n",
    "\n",
    "probabilidad,_ = quad(f_densidad, rango_min, rango_max)\n",
    "\n",
    "#4 mostramos el resultado\n",
    "print(probabilidad)\n",
    "\n",
    "\n",
    "\n",
    "\n"
   ]
  },
  {
   "cell_type": "code",
   "execution_count": null,
   "metadata": {},
   "outputs": [],
   "source": []
  },
  {
   "cell_type": "code",
   "execution_count": null,
   "metadata": {},
   "outputs": [],
   "source": []
  }
 ],
 "metadata": {
  "kernelspec": {
   "display_name": "Python 3",
   "language": "python",
   "name": "python3"
  },
  "language_info": {
   "codemirror_mode": {
    "name": "ipython",
    "version": 3
   },
   "file_extension": ".py",
   "mimetype": "text/x-python",
   "name": "python",
   "nbconvert_exporter": "python",
   "pygments_lexer": "ipython3",
   "version": "3.12.4"
  }
 },
 "nbformat": 4,
 "nbformat_minor": 2
}
