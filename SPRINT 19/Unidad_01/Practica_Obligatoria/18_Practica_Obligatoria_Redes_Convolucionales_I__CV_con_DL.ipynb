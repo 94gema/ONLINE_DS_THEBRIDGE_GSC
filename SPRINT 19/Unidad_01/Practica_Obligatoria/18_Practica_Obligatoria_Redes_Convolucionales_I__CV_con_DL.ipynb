{
  "cells": [
    {
      "cell_type": "markdown",
      "metadata": {
        "id": "9hUC-94hmv69"
      },
      "source": [
        "![image.png](attachment:image.png)"
      ]
    },
    {
      "cell_type": "markdown",
      "metadata": {
        "id": "6pCrLOJhmv7E"
      },
      "source": [
        "## PRACTICA OBLIGATORIA: **Redes Convolucionales**"
      ]
    },
    {
      "cell_type": "markdown",
      "metadata": {
        "id": "-wTeKrXLmv7F"
      },
      "source": [
        "* La práctica obligatoria de esta unidad consiste en un ejercicio de construcción de una red convolucional con Keras para la clasificación de imagenes de simpáticos perretes y gatetes. Descarga este notebook en tu ordenador y trabaja en local. Ten en cuenta que tendrás que descar los directorios de imágenes y datos adicionales, si los hubiera.\n",
        "* Recuerda que debes subirla a tu repositorio personal antes de la sesión en vivo para que puntúe adecuadamente.  \n",
        "* Recuerda también que no es necesario que esté perfecta, sólo es necesario que se vea el esfuerzo.\n",
        "* Esta práctica se resolverá en la sesión en vivo correspondiente y la solución se publicará en el repo del curso."
      ]
    },
    {
      "cell_type": "markdown",
      "metadata": {
        "id": "6FHbS2rymv7K"
      },
      "source": [
        "### Ejercicio 0"
      ]
    },
    {
      "cell_type": "markdown",
      "metadata": {
        "id": "l48F6kqumv7M"
      },
      "source": [
        "Importa los paquetes y módulos que necesites a lo largo del notebook."
      ]
    },
    {
      "cell_type": "code",
      "execution_count": 9,
      "metadata": {
        "id": "YxOg_P1Cmv7O"
      },
      "outputs": [],
      "source": [
        "import numpy as np\n",
        "import pandas as pd\n",
        "import matplotlib.pyplot as plt\n",
        "import os\n",
        "from skimage.io import imread\n",
        "from sklearn.utils import shuffle\n",
        "import seaborn as sns\n",
        "from sklearn.metrics import confusion_matrix\n",
        "import keras\n",
        "import cv2\n",
        "from google.colab import files"
      ]
    },
    {
      "cell_type": "code",
      "source": [],
      "metadata": {
        "id": "52ukAGfAnAdw"
      },
      "execution_count": null,
      "outputs": []
    },
    {
      "cell_type": "markdown",
      "metadata": {
        "id": "Bsgjra9dmv7P"
      },
      "source": [
        "### Problema de Negocio y dataset\n",
        "\n",
        "Una conocida empresa de información inmobiliaria utiliza un CAPTCHA visual de perros y gatos para detectar webscrappings intensivos y ataques de denegación de servicio. Últimamente, ha detectado que su sistema está empezando a flojear, es decir que hay muchos sistemas de detección automática de imágenes que son capaces de detectar que es un perro y un gato y salterse el CAPTCHA antirobots. Por eso nos ha pedido que entrenemos un modelo potente de clasificación que emule a estos sistemas con el objetivo de emplear como fotografías para el CAPTCHA aquellas que no sepa detectar este sistema emulador de chicos malos.  \n",
        "\n",
        "Pues manos a la obra, tenemos que seleccionar en un conjunto de 1000 imágenes aquellas que peor se le daría clasificar a un potencial sistema anti-CAPTCHA.  \n",
        "\n",
        "Para ello vamos a emplear un conjunto de train de 4000 imágenes de perretes y gatetes que se encuentran distribuidas en \"data\" en cuatro directorios \"github_train_0\",  \"github_train_1\", \"githun_train_2\" y \"github_train_3\". Los datos de las imagenes que tenemos que clasificar y luego seleccionar como las más \"difíciles\" están en \"data\" en el directorio \"github_test\".\n",
        "\n",
        "\n",
        "### Se pide\n",
        "\n",
        "1. Crear los datasets X,y de train y test, leyendo las imágenes de los directorios correspondientes (tendrás que leer todas las imágenes de los cuatro directorios para train) y a la vez que se leen adpatar su resolución para que todas tengan un tamaño de 32x32. En este caso puedes adaptar las funciones de los ejercicios de la unidad. NOTA: Ten en cuenta que la clase a la que pertenece en la foto está en el nombre del archivo.\n",
        "\n",
        "2. Crea un modelo DL basado en redes convolucionales con al menos dos juegos Convolucional-Pooling. Sigue todo el proceso de ML (visualización del dataset, MiniEDA, Construcción del modelo)\n",
        "\n",
        "3. Entrenar el modelo con un callback de Earlystopping con paciencia la que tengas :-). Muestra su historial de entrenamiento.\n",
        "\n",
        "4. Evalua el modelo, haz un reporte de clasificacion y muestra la matriz de confianza.\n",
        "\n",
        "5. Es el momento de seleccionar las imagenes: Selecciona el 10% de imágenes mal clasificadas de una y otra clase que tengan el mayor nivel de confianza de que pertenencían a la clase errónea. Es decir las imágenes de perros clasificadas como gatos y con la probabilidad de ser perror más alta.\n",
        "\n",
        "\n",
        "### Extra (para hacer en clase)\n",
        "\n",
        "Repite los pasos 3 a 5 utilizando el generador de imágenes sintéticas o Image Augmentation de Keras.\n",
        "\n"
      ]
    },
    {
      "cell_type": "code",
      "execution_count": 9,
      "metadata": {
        "id": "X8AUCBRemv7R"
      },
      "outputs": [],
      "source": [
        "uploaded_0 = files.upload()"
      ]
    },
    {
      "cell_type": "code",
      "source": [
        "import zipfile\n",
        "import io\n",
        "data= zipfile.ZipFile(io.BytesIO(uploaded_0['data_zip.zip']), 'r')\n",
        "data.extractall()"
      ],
      "metadata": {
        "id": "sGYogn7qnBjZ"
      },
      "execution_count": null,
      "outputs": []
    },
    {
      "cell_type": "code",
      "source": [
        "#Leemos las rutas y añadimos a una lista todas las fotos\n",
        "\n",
        "ruta_train_0 =\"/content/data_zip/github_train_0\"\n",
        "ruta_train_1 =\"/content/data_zip/github_train_1\"\n",
        "ruta_train_2 =\"/content/data_zip/github_train_2\"\n",
        "ruta_train_3 =\"/content/data_zip/github_train_3\"\n",
        "rutas_train = [ruta_train_0,ruta_train_1, ruta_train_2,ruta_train_3]\n",
        "img_size = 32\n",
        "lista_train = []\n",
        "\n",
        "for ruta in rutas_train:\n",
        "  for img in os.listdir(ruta):\n",
        "    img=cv2.imread(os.path.join(ruta,img))\n",
        "    img_grey =cv2.cvtColor(img,cv2.COLOR_BGR2GRAY)\n",
        "    img_grey_resize = cv2.resize(img_grey,(img_size,img_size))\n",
        "    lista_train.append([img_grey_resize])\n",
        "\n",
        "print(len(lista_train))"
      ],
      "metadata": {
        "id": "zwRfZJL5nB0-",
        "outputId": "feb43e1e-fdd7-41ee-b380-1b4aa9e713a4",
        "colab": {
          "base_uri": "https://localhost:8080/"
        }
      },
      "execution_count": 10,
      "outputs": [
        {
          "output_type": "stream",
          "name": "stdout",
          "text": [
            "4000\n"
          ]
        }
      ]
    },
    {
      "cell_type": "code",
      "source": [],
      "metadata": {
        "id": "BQUDaHP9nCEf"
      },
      "execution_count": null,
      "outputs": []
    }
  ],
  "metadata": {
    "colab": {
      "name": "EDA-Intro-visualization_MatplotLib.ipynb",
      "provenance": []
    },
    "kernelspec": {
      "display_name": "Python 3.7.4 64-bit",
      "language": "python",
      "name": "python3"
    },
    "language_info": {
      "codemirror_mode": {
        "name": "ipython",
        "version": 3
      },
      "file_extension": ".py",
      "mimetype": "text/x-python",
      "name": "python",
      "nbconvert_exporter": "python",
      "pygments_lexer": "ipython3",
      "version": "3.11.8"
    },
    "vscode": {
      "interpreter": {
        "hash": "90139cb9a825bf3d63f6f6704e828dbd1ff7edbd4d0c6e906a71235d6efc74af"
      }
    }
  },
  "nbformat": 4,
  "nbformat_minor": 0
}