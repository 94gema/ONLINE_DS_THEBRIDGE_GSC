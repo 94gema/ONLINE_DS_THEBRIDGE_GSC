{
  "cells": [
    {
      "cell_type": "markdown",
      "metadata": {
        "id": "UsV-R_u6HB8i"
      },
      "source": [
        "![image.png](attachment:image.png)"
      ]
    },
    {
      "cell_type": "markdown",
      "metadata": {
        "id": "Ts-aPnF9HB8l"
      },
      "source": [
        "## PRACTICA OBLIGATORIA: **Transfer Learning y Fine Tuning**"
      ]
    },
    {
      "cell_type": "markdown",
      "metadata": {
        "id": "llWqV5U1HB8l"
      },
      "source": [
        "* La práctica obligatoria de esta unidad consiste en un repetir el ejercicio de construcción de un modelo de clasificación de paisajes pero usando un modelo preentrenado. Descarga este notebook en tu ordenador y trabaja en local. Ten en cuenta que tendrás que descar los directorios de imágenes y datos adicionales, si los hubiera.\n",
        "* Recuerda que debes subirla a tu repositorio personal antes de la sesión en vivo para que puntúe adecuadamente.  \n",
        "* Recuerda también que no es necesario que esté perfecta, sólo es necesario que se vea el esfuerzo.\n",
        "* Esta práctica se resolverá en la sesión en vivo correspondiente y la solución se publicará en el repo del curso."
      ]
    },
    {
      "cell_type": "markdown",
      "metadata": {
        "id": "1eFsT5iEHB8o"
      },
      "source": [
        "### Ejercicio 0"
      ]
    },
    {
      "cell_type": "markdown",
      "metadata": {
        "id": "jAMINCSOHB8o"
      },
      "source": [
        "Importa los paquetes y módulos que necesites a lo largo del notebook."
      ]
    },
    {
      "cell_type": "markdown",
      "metadata": {
        "id": "829r11SbHB8p"
      },
      "source": [
        "hola\n"
      ]
    },
    {
      "cell_type": "markdown",
      "metadata": {
        "id": "XsmD1gRqHB8p"
      },
      "source": [
        "### Objetivo del ejercicio\n",
        "\n",
        "Comparar una red convolucional hecha ad-hoc frente a los modelos preentrenados y ajustados con fine tuning y transfer learning. Para ello emplea el dataset de paisajes del conjunto de ejercicios de la unidad anterior.\n",
        "\n",
        "\n",
        "### Se pide\n",
        "\n",
        "1. Preparar los datos del modelo y las funciones de visualización, copia para ello todo lo que necesites de las soluciones del ejercicio de clasificación de paisajes de la unidad anterior.\n",
        "\n",
        "2. Escoger entre uno de los modelos VGG-19, InceptionV3 y MobileNetV2 (todos en https://keras.io/api/applications/) (Se aconseja este último si no tenemos un ordenador muy potente). Si no te haces con estos puedes recurrir a la ResNetV50.\n",
        "\n",
        "4. Hacer un transfer-learning con una cabeza de como mucho 2 capas densas ocultas y una de salida. Mostrar la evaluación contra test, el report de clasificación y la matriz de confusión.\n",
        "\n",
        "5. Hacer un fine-tuning con la misma cabeza diseñada en el punto anterior. Mostrar la evaluación contra test, el report de clasificación y la matriz de confusión.\n",
        "\n",
        "6. Comparar los resultados con los obtenidos con la red convolucional del ejercicio mencionado.\n",
        "\n",
        "EXTRA:\n",
        "- Repetir el transfer learning empleando aumentado de imágenes.\n",
        "\n"
      ]
    },
    {
      "cell_type": "code",
      "execution_count": null,
      "metadata": {
        "vscode": {
          "languageId": "plaintext"
        },
        "id": "z80cWAcHHB8q"
      },
      "outputs": [],
      "source": []
    }
  ],
  "metadata": {
    "colab": {
      "name": "EDA-Intro-visualization_MatplotLib.ipynb",
      "provenance": []
    },
    "kernelspec": {
      "display_name": "Python 3 (ipykernel)",
      "language": "python",
      "name": "python3"
    },
    "language_info": {
      "codemirror_mode": {
        "name": "ipython",
        "version": 3
      },
      "file_extension": ".py",
      "mimetype": "text/x-python",
      "name": "python",
      "nbconvert_exporter": "python",
      "pygments_lexer": "ipython3",
      "version": "3.11.8"
    },
    "vscode": {
      "interpreter": {
        "hash": "90139cb9a825bf3d63f6f6704e828dbd1ff7edbd4d0c6e906a71235d6efc74af"
      }
    }
  },
  "nbformat": 4,
  "nbformat_minor": 0
}