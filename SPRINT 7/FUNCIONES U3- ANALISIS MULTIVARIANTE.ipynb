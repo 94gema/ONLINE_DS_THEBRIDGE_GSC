{
 "cells": [
  {
   "cell_type": "markdown",
   "metadata": {},
   "source": [
    "#### ANALISIS MULTIVARIANTE CON UNA CATEGORICA"
   ]
  },
  {
   "cell_type": "code",
   "execution_count": null,
   "metadata": {},
   "outputs": [],
   "source": [
    "#diagramas de frecuencia por separado de las 3 variables\n",
    "pinta_distribucion_categoricas(df_seguros,[\"response\",\"renew_offer_type\",\"education\"], \n",
    "                               relativa= True, mostrar_valores= True)"
   ]
  },
  {
   "cell_type": "code",
   "execution_count": null,
   "metadata": {},
   "outputs": [],
   "source": [
    "#escogemos cual es la variable directora (la mas relevante)"
   ]
  },
  {
   "cell_type": "code",
   "execution_count": null,
   "metadata": {},
   "outputs": [],
   "source": [
    "#analisis bivariante con todas las posibilidades\n",
    "plot_categorical_relationship_fin(df_seguros,\"renew_offer_type\",\"response\", relative_freq= True, show_values= True)\n",
    "plot_categorical_relationship_fin(df_seguros,\"education\",\"response\", relative_freq= True, show_values= True)\n",
    "plot_categorical_relationship_fin(df_seguros,\"education\",\"renew_offer_type\", relative_freq= True, show_values= True)"
   ]
  },
  {
   "cell_type": "code",
   "execution_count": null,
   "metadata": {},
   "outputs": [],
   "source": [
    "# Dividir dataset en tantos subsets como valores tenga mi catefgoria directora (value_counts)\n",
    "columnas = [\"response\",\"renew_offer_type\",\"education\"] \n",
    "col_directora = \"response\"\n",
    "col_1 = [col for col in columnas if col != col_directora][0]\n",
    "col_2 = [col for col in columnas if col != col_directora][1]\n",
    "diccionario_multivariante = {}\n",
    "for valor in df_seguros[col_directora].unique():\n",
    "    diccionario_multivariante[valor] = df_seguros.loc[df_seguros[col_directora] == valor,[col_2,col_1]] \n",
    "    # Ojo al orden quiero ver para cada oferta como es la distribución de educacion"
   ]
  },
  {
   "cell_type": "code",
   "execution_count": null,
   "metadata": {},
   "outputs": [],
   "source": [
    "# Analisis bivariante de los subsets de barras\n",
    "for valor,df_datos in diccionario_multivariante.items():\n",
    "    print(f\"Respuesta {valor}:\")\n",
    "    plot_categorical_relationship_fin(df_datos,col_2,col_1, relative_freq= True, show_values= True)"
   ]
  },
  {
   "cell_type": "code",
   "execution_count": null,
   "metadata": {},
   "outputs": [],
   "source": [
    "#Analisis bivariante de dispersion \n",
    "for valor,df_datos in diccionario_multivariante.items():\n",
    "    print(f\"Respuesta {valor}:\")\n",
    "    grafico_dispersion_con_correlacion(df_datos,col_2,col_1, tamano_puntos=20, mostrar_correlacion= True)"
   ]
  },
  {
   "cell_type": "markdown",
   "metadata": {},
   "source": [
    "#### ANALISIS MULTIVARIANTE NUMERICAS\n"
   ]
  },
  {
   "cell_type": "code",
   "execution_count": null,
   "metadata": {},
   "outputs": [],
   "source": [
    "#Diagrama de burbujas\n",
    "bubble_plot(df_air_jun,\"distancia\",\"consumo_kg\",\"ingresos\", scale = 100000)"
   ]
  },
  {
   "cell_type": "code",
   "execution_count": null,
   "metadata": {},
   "outputs": [],
   "source": [
    "#Matriz de correlacion de variables numericas\n",
    "corr_matrix = df_seguros.corr(numeric_only= True) # Si no lo pones y tienes variables tipo texto, fallará7\n",
    "corr_matrix"
   ]
  },
  {
   "cell_type": "code",
   "execution_count": null,
   "metadata": {},
   "outputs": [],
   "source": [
    "# Matriz de correlacion de Pearson MAPA DE CALOR\n",
    "plt.figure(figsize=(10, 8))  # Ya lo veremos pero esto permite ajustar el tamaño de las gráficas\n",
    "sns.heatmap(corr_matrix, annot=True, fmt=\".2f\", cmap=\"coolwarm\", \n",
    "            cbar=True, square=True, linewidths=.5) # el cmap es el rango de colores usado para representar \"el calor\"\n",
    "\n",
    "plt.title('Matriz de Correlación')\n",
    "plt.xticks(rotation=45)  # Rota las etiquetas de las x si es necesario\n",
    "plt.yticks(rotation=45)  # Rota las etiquetas de las y si es necesario\n",
    "\n",
    "plt.show()\n"
   ]
  },
  {
   "cell_type": "code",
   "execution_count": null,
   "metadata": {},
   "outputs": [],
   "source": [
    "#Ver matriz de graficas con correlaciones\n",
    "df_solo_numeros = df_air_jun.select_dtypes(include = [\"float\",\"int\"])\n",
    "df_solo_numeros.columns\n",
    "\n",
    "\n",
    "sns.pairplot(df_solo_numeros)\n",
    "plt.show()"
   ]
  },
  {
   "cell_type": "code",
   "execution_count": null,
   "metadata": {},
   "outputs": [],
   "source": []
  }
 ],
 "metadata": {
  "language_info": {
   "name": "python"
  }
 },
 "nbformat": 4,
 "nbformat_minor": 2
}
