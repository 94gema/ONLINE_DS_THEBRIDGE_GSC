{
 "cells": [
  {
   "cell_type": "code",
   "execution_count": 61,
   "id": "06802edf-4cc9-4311-92a7-0392098b0156",
   "metadata": {},
   "outputs": [
    {
     "name": "stdin",
     "output_type": "stream",
     "text": [
      " 1\n"
     ]
    },
    {
     "name": "stdout",
     "output_type": "stream",
     "text": [
      "Pueba otra vez, intentos restantes: 2\n"
     ]
    },
    {
     "name": "stdin",
     "output_type": "stream",
     "text": [
      " python\n"
     ]
    },
    {
     "name": "stdout",
     "output_type": "stream",
     "text": [
      "La contraseña correcta es: python\n"
     ]
    }
   ],
   "source": [
    "password = input()\n",
    "solution =\"python\"\n",
    "\n",
    "if password == solution:\n",
    "    print(\"La contraseña correcta es:\", solution)\n",
    "\n",
    "else:\n",
    "    i= 1\n",
    "    print(\"Pueba otra vez, intentos restantes:\", 3-i)\n",
    "\n",
    "    while password != solution:\n",
    "        password = input ()\n",
    "        i = i+1\n",
    "        if i >= 3 and password != solution:\n",
    "            print(\"Cuenta bloqueada\")\n",
    "            solution = None\n",
    "            break\n",
    "        elif password == solution:\n",
    "           print(\"La contraseña correcta es:\", solution)\n",
    "        else:\n",
    "            print(\"Pueba otra vez, intentos restantes:\", 3-i)"
   ]
  },
  {
   "cell_type": "code",
   "execution_count": 125,
   "id": "f767a554-ced2-4f2c-8834-42252c57aca1",
   "metadata": {},
   "outputs": [],
   "source": [
    "#EJERCICIO 5\n",
    "\n",
    "\n",
    "def saludar():\n",
    "    nombre= input(\"Dime tu nombre:\")\n",
    "    print(\"Hola \",nombre)\n",
    "\n",
    "def pide_numero():\n",
    "    try:\n",
    "        n1 =int( input(\"Introduce numero:\"))\n",
    "        return n1\n",
    "    except ValueError:\n",
    "        print(\"Eso no es un numero, pruebe otra vez\")\n",
    "        n1 =int( input(\"Introduce numero:\"))\n",
    "        return n1\n",
    "\n",
    "def pide_simbolo():\n",
    "    n1 =( input(\"Introduce simbolo:\"))\n",
    "    return n1\n",
    "    \n",
    "def sumar(n1,n2):\n",
    "    resultado = n1 + n2\n",
    "    return resultado\n",
    "    \n",
    "def restar(n1,n2):\n",
    "    resultado = n1 - n2\n",
    "    return resultado\n",
    "\n",
    "def multiplicar(n1,n2):\n",
    "    resultado = n1*n2\n",
    "    return resultado\n",
    "\n",
    "def solucion():\n",
    "    saludar()\n",
    "    n1 = pide_numero()\n",
    "    n2 =pide_numero()\n",
    "    simbolo =pide_simbolo()\n",
    "    try:\n",
    "        if simbolo == \"+\":\n",
    "           resultado = sumar(n1,n2)\n",
    "        elif simbolo == \"-\":\n",
    "            resultado = restar(n1,n2)\n",
    "        elif simbolo == \"*\" :\n",
    "           resultado = multiplicar(n1,n2)\n",
    "            \n",
    "        print(\"Tu resultado es:\", resultado) \n",
    "\n",
    "    except:\n",
    "        print(\"Simbolo incorrecto, pruebe otra vez\")\n",
    "\n",
    "\n",
    "\n"
   ]
  },
  {
   "cell_type": "code",
   "execution_count": 124,
   "id": "1b9de782-b245-4649-a804-3d9c8e4662cc",
   "metadata": {},
   "outputs": [
    {
     "name": "stdin",
     "output_type": "stream",
     "text": [
      "Dime tu nombre: gema\n"
     ]
    },
    {
     "name": "stdout",
     "output_type": "stream",
     "text": [
      "Hola  gema\n"
     ]
    },
    {
     "name": "stdin",
     "output_type": "stream",
     "text": [
      "Introduce numero: 1\n",
      "Introduce numero: a\n"
     ]
    },
    {
     "name": "stdout",
     "output_type": "stream",
     "text": [
      "Eso no es un numero, pruebe otra vez\n"
     ]
    },
    {
     "name": "stdin",
     "output_type": "stream",
     "text": [
      "Introduce numero: 3\n",
      "Introduce simbolo: -\n"
     ]
    },
    {
     "name": "stdout",
     "output_type": "stream",
     "text": [
      "Tu resultado es: -2\n"
     ]
    }
   ],
   "source": [
    "solucion()"
   ]
  },
  {
   "cell_type": "code",
   "execution_count": 94,
   "id": "7e16c904-a116-464b-a9ff-ad75047b126f",
   "metadata": {},
   "outputs": [
    {
     "data": {
      "text/plain": [
       "-1"
      ]
     },
     "execution_count": 94,
     "metadata": {},
     "output_type": "execute_result"
    }
   ],
   "source": [
    "restar(1,2)\n"
   ]
  },
  {
   "cell_type": "code",
   "execution_count": 71,
   "id": "e6d8f9c3-9a8c-49d6-a0de-d0395e7558de",
   "metadata": {},
   "outputs": [
    {
     "ename": "TypeError",
     "evalue": "pedir_numeros() missing 2 required positional arguments: 'n1' and 'n2'",
     "output_type": "error",
     "traceback": [
      "\u001b[1;31m---------------------------------------------------------------------------\u001b[0m",
      "\u001b[1;31mTypeError\u001b[0m                                 Traceback (most recent call last)",
      "Cell \u001b[1;32mIn[71], line 1\u001b[0m\n\u001b[1;32m----> 1\u001b[0m \u001b[43mpedir_numeros\u001b[49m\u001b[43m(\u001b[49m\u001b[43m)\u001b[49m\n",
      "\u001b[1;31mTypeError\u001b[0m: pedir_numeros() missing 2 required positional arguments: 'n1' and 'n2'"
     ]
    }
   ],
   "source": [
    "pedir_numeros()"
   ]
  },
  {
   "cell_type": "code",
   "execution_count": 135,
   "id": "3a884820-dc68-4b1b-84aa-1af7ffa764fb",
   "metadata": {},
   "outputs": [
    {
     "name": "stdout",
     "output_type": "stream",
     "text": [
      "<class 'tuple'>\n"
     ]
    }
   ],
   "source": [
    "tu =()\n",
    "print(type(tu))"
   ]
  },
  {
   "cell_type": "code",
   "execution_count": 145,
   "id": "f2cacc80-f248-4f6b-9bc8-969bfb8f665a",
   "metadata": {},
   "outputs": [
    {
     "name": "stdout",
     "output_type": "stream",
     "text": [
      "(3, 4, 2)\n"
     ]
    },
    {
     "ename": "NameError",
     "evalue": "name 'tupla3' is not defined",
     "output_type": "error",
     "traceback": [
      "\u001b[1;31m---------------------------------------------------------------------------\u001b[0m",
      "\u001b[1;31mNameError\u001b[0m                                 Traceback (most recent call last)",
      "Cell \u001b[1;32mIn[145], line 14\u001b[0m\n\u001b[0;32m     11\u001b[0m tupla3 \u001b[38;5;241m=\u001b[39m tupla1 \u001b[38;5;241m+\u001b[39m tupla\n\u001b[0;32m     13\u001b[0m \u001b[38;5;28;01mdel\u001b[39;00m tupla3\n\u001b[1;32m---> 14\u001b[0m \u001b[38;5;28mprint\u001b[39m(\u001b[43mtupla3\u001b[49m[\u001b[38;5;241m3\u001b[39m])\n",
      "\u001b[1;31mNameError\u001b[0m: name 'tupla3' is not defined"
     ]
    }
   ],
   "source": [
    "lista = (\"a\", \"b\", \"4\")\n",
    "\" \".join(lista)\n",
    "\n",
    "tupla = (1,2,3,4,5,3)\n",
    "tupla.index(3)\n",
    "tupla4 = tupla[-1:0:-2]\n",
    "print(tupla4)\n",
    "\n",
    "\n",
    "tupla1 =(3,)\n",
    "tupla3 = tupla1 + tupla\n",
    "\n",
    "del tupla3\n",
    "print(tupla3[3])\n",
    "\n",
    "\n"
   ]
  },
  {
   "cell_type": "code",
   "execution_count": 130,
   "id": "829503bb-4f78-43f7-8441-82bffd4175e9",
   "metadata": {},
   "outputs": [
    {
     "name": "stdout",
     "output_type": "stream",
     "text": [
      "[2, 5, 8]\n"
     ]
    }
   ],
   "source": [
    "var = list(range(2,))\n",
    "print (var)"
   ]
  },
  {
   "cell_type": "code",
   "execution_count": 163,
   "id": "5c48cb29-d56e-43a4-99e5-60ab494949d9",
   "metadata": {},
   "outputs": [
    {
     "name": "stdout",
     "output_type": "stream",
     "text": [
      "{'a': 1, 'b': 2, 'c': 3, 'f': 6, 'g': 7}\n",
      "{'a': 1, 'b': 2, 'c': 3, 'f': 344444, 'g': 7}\n"
     ]
    }
   ],
   "source": [
    "# Crear un diccionario\n",
    "mi_diccionario = {'a': 1, 'b': 2, 'c': 3}\n",
    "\n",
    "# Acceder a un valor\n",
    "#print(mi_diccionario['a'])  # Output: 1\n",
    "\n",
    "# Obtener todas las claves\n",
    "#print(mi_diccionario.keys())  # Output: dict_keys(['a', 'b', 'c'])\n",
    "\n",
    "# Obtener todos los valores\n",
    "#print(mi_diccionario.values())  # Output: dict_values([1, 2, 3])\n",
    "\n",
    "# Obtener todos los pares clave-valor\n",
    "#print(mi_diccionario.items())  # Output: dict_items([('a', '1'), ('b', '2'), ('c', '3')])\n",
    "\n",
    "# Agregar o actualizar un elemento\n",
    "#mi_diccionario['d'] = 4\n",
    "#print(mi_diccionario)  # Output: {'a': 1, 'b': 2, 'c': 3, 'd': 4}\n",
    "\n",
    "# Eliminar un elemento por clave\n",
    "#valor = mi_diccionario.pop('b')\n",
    "#print(valor)  # Output: 2\n",
    "#print(mi_diccionario)  # Output: {'a': 1, 'c': 3, 'd': 4}\n",
    "\n",
    "# Obtener un valor con una clave y un valor predeterminado si la clave no existe\n",
    "#mi_diccionario.get('e', 5)\n",
    "#print(valor)  # Output: 5\n",
    "#print(mi_diccionario)\n",
    "\n",
    "# Establecer un valor si la clave no existe\n",
    "#mi_diccionario.setdefault('e', 5)\n",
    "#print(mi_diccionario)  # Output: {'a': 1, 'c': 3, 'd': 4, 'e': 5}\n",
    "#mi_diccionario.setdefault('e', 9)\n",
    "#print(mi_diccionario)  # Output: {'a': 1, 'c': 3, 'd': 4, 'e': 5}\n",
    "\n",
    "\n",
    "# Actualizar el diccionario con otro diccionario\n",
    "mi_diccionario.update({'f': 6, 'g': 7})\n",
    "print(mi_diccionario)  # Output: {'a': 1, 'c': 3, 'd': 4, 'e': 5, 'f': 6, 'g': 7}\n",
    "mi_diccionario.update({'f': 344444, 'g': 7})\n",
    "print(mi_diccionario)\n",
    "\n",
    "# Eliminar todos los elementos del diccionario\n",
    "#mi_diccionario.clear()\n",
    "#print(mi_diccionario)  # Output: {}\n",
    "\n",
    "# Copiar el diccionario\n",
    "#mi_diccionario = {'a': 1, 'b': 2, 'c': 3}\n",
    "#copia = mi_diccionario.copy()\n",
    "#print(copia)  # Output: {'a': 1, 'b': 2, 'c': 3}\n"
   ]
  },
  {
   "cell_type": "code",
   "execution_count": null,
   "id": "48ab7410-9ed9-4f5e-9f29-19af90ef99b7",
   "metadata": {},
   "outputs": [],
   "source": []
  },
  {
   "cell_type": "code",
   "execution_count": null,
   "id": "9a10aa22-90ab-4621-b709-c2b3244b497a",
   "metadata": {},
   "outputs": [],
   "source": []
  },
  {
   "cell_type": "code",
   "execution_count": null,
   "id": "91f6d3b4-36c4-4b47-9571-be11e6e11aa1",
   "metadata": {},
   "outputs": [],
   "source": []
  }
 ],
 "metadata": {
  "kernelspec": {
   "display_name": "Python 3 (ipykernel)",
   "language": "python",
   "name": "python3"
  },
  "language_info": {
   "codemirror_mode": {
    "name": "ipython",
    "version": 3
   },
   "file_extension": ".py",
   "mimetype": "text/x-python",
   "name": "python",
   "nbconvert_exporter": "python",
   "pygments_lexer": "ipython3",
   "version": "3.12.3"
  }
 },
 "nbformat": 4,
 "nbformat_minor": 5
}
