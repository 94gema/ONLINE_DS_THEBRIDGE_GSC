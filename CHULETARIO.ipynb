{
 "cells": [
  {
   "cell_type": "markdown",
   "metadata": {},
   "source": [
    "# MIS FUNCIONES"
   ]
  },
  {
   "cell_type": "code",
   "execution_count": 1,
   "metadata": {},
   "outputs": [],
   "source": [
    "#Cardinalidad funcion\n",
    "def cardinalidad(df,categoria = 10, continua = 30):\n",
    "    # Nuevo df con columnas, cardinalidades, % variación cardinalidad, tipo de dato y variables\n",
    "    df_cardi = pd.DataFrame([df.columns, df.nunique(), df.nunique()/len(df) * 100, df.dtypes])\n",
    "    df_cardi = df_cardi.T \n",
    "    df_cardi = df_cardi.rename(columns = {0:\"Columnas\" , 1:\"Cardinalidad\", 2: \"Porcentaje_Cardi\", 3: \"Tipo_dato\"}) \n",
    "\n",
    "    # Corrección para cuando solo tengo un valor\n",
    "    df_cardi.loc[df_cardi[\"Cardinalidad\"] == 1, \"Porcentaje_Cardi\"] = 0.00\n",
    "\n",
    "    # Tipo de variables\n",
    "    df_cardi[\"Variable\"] = \"Categorica\"\n",
    "    df_cardi.loc[df_cardi[\"Cardinalidad\"] == 2, \"Variable\"] = \"Binaria\"\n",
    "    df_cardi.loc[df_cardi[\"Cardinalidad\"] >= categoria, \"Variable\"] = \"Numerica discreta\"\n",
    "    df_cardi.loc[df_cardi[\"Porcentaje_Cardi\"] >= continua, \"Variable\"] = \"Numerica continua\"\n",
    "\n",
    "    return df_cardi"
   ]
  },
  {
   "cell_type": "code",
   "execution_count": null,
   "metadata": {},
   "outputs": [],
   "source": []
  },
  {
   "cell_type": "code",
   "execution_count": null,
   "metadata": {},
   "outputs": [],
   "source": []
  },
  {
   "cell_type": "code",
   "execution_count": null,
   "metadata": {},
   "outputs": [],
   "source": []
  },
  {
   "cell_type": "code",
   "execution_count": null,
   "metadata": {},
   "outputs": [],
   "source": []
  }
 ],
 "metadata": {
  "kernelspec": {
   "display_name": "Python 3",
   "language": "python",
   "name": "python3"
  },
  "language_info": {
   "codemirror_mode": {
    "name": "ipython",
    "version": 3
   },
   "file_extension": ".py",
   "mimetype": "text/x-python",
   "name": "python",
   "nbconvert_exporter": "python",
   "pygments_lexer": "ipython3",
   "version": "3.12.4"
  }
 },
 "nbformat": 4,
 "nbformat_minor": 2
}
